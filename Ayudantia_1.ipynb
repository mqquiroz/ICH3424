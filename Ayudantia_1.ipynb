{
  "nbformat": 4,
  "nbformat_minor": 0,
  "metadata": {
    "colab": {
      "name": "Ayudantia_1.ipynb",
      "provenance": [],
      "authorship_tag": "ABX9TyPpo+9DP/4Xv3aqoq+bCBBi",
      "include_colab_link": true
    },
    "kernelspec": {
      "name": "python3",
      "display_name": "Python 3"
    },
    "language_info": {
      "name": "python"
    }
  },
  "cells": [
    {
      "cell_type": "markdown",
      "metadata": {
        "id": "view-in-github",
        "colab_type": "text"
      },
      "source": [
        "<a href=\"https://colab.research.google.com/github/mqquiroz/ICH3424/blob/master/Ayudantia_1.ipynb\" target=\"_parent\"><img src=\"https://colab.research.google.com/assets/colab-badge.svg\" alt=\"Open In Colab\"/></a>"
      ]
    },
    {
      "cell_type": "markdown",
      "metadata": {
        "id": "8V4U2l74leDz"
      },
      "source": [
        "# Pontificia Universidad Católica de Chile\n",
        "## Escuela de Ingeniería\n",
        "### Ayudantía 1 - ICH3424: Ingeniería de Costas\n",
        "\n",
        "Vamos a graficar la desnivelación Instantánea (Superficie Libre):\n",
        "\n",
        "$$\\eta(x,t) = \\frac{H}{2}\\cos(kx - \\omega t) $$\n",
        "\n",
        "Con:\n",
        "\n",
        "$$k = \\frac{2\\pi}{L}, \\quad\\quad \\omega = \\frac{2\\pi}{T} $$"
      ]
    },
    {
      "cell_type": "code",
      "metadata": {
        "id": "N1aTUtcAlRfN"
      },
      "source": [
        "#Cargar librerias\n",
        "import numpy as np\n",
        "import matplotlib.pyplot as plt "
      ],
      "execution_count": 8,
      "outputs": []
    },
    {
      "cell_type": "code",
      "metadata": {
        "colab": {
          "base_uri": "https://localhost:8080/",
          "height": 279
        },
        "id": "sxldhUkGm-Hr",
        "outputId": "89e58d8d-76f4-43ae-8dd1-4dce320b25a0"
      },
      "source": [
        "#Declaramos Datos de entrada\n",
        "H = 2 #(m) Altura de la onda\n",
        "L = 100 #(m) Longitud de la onda\n",
        "T = 10 #(s) Periodo de la onda\n",
        "h = 50 #(m) Profundidad del agua en reposo.\n",
        "\n",
        "#instante a graficar\n",
        "t = 0\n",
        "\n",
        "dx = 2.5 #Resolucion en x (incrementos)\n",
        "x = np.arange(0,4*L,dx)\n",
        "\n",
        "k = 2*np.pi/L #Numero de onda\n",
        "w = 2*np.pi/T #Frecuencia angular(circular)\n",
        "\n",
        "eta = (H/2)*np.cos(k*x-w*t) #superficie libre\n",
        "\n",
        "plt.plot(x,eta) #función para graficar datos x,y\n",
        "plt.grid() #activamos grilla\n",
        "plt.xlabel('Eje x (m)') #texto eje x\n",
        "plt.ylabel('Eje z (m)') #texto eje y\n",
        "plt.xlim(0,4*L) #limites de la grafica en x (xmin,xmax)\n",
        "plt.ylim(-h,H) #limites de la grafica en y (ymin,ymax)\n",
        "plt.show() #mostrar figura"
      ],
      "execution_count": 9,
      "outputs": [
        {
          "output_type": "display_data",
          "data": {
            "image/png": "[encoded data removed]",
            "text/plain": [
              "<Figure size 432x288 with 1 Axes>"
            ]
          },
          "metadata": {
            "needs_background": "light"
          }
        }
      ]
    }
  ]
}