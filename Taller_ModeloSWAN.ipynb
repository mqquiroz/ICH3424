{
  "nbformat": 4,
  "nbformat_minor": 0,
  "metadata": {
    "colab": {
      "name": "Taller_ModeloSWAN.ipynb",
      "provenance": [],
      "authorship_tag": "ABX9TyN4wfvjhTZI45sgj13t7vPG",
      "include_colab_link": true
    },
    "kernelspec": {
      "name": "python3",
      "display_name": "Python 3"
    },
    "language_info": {
      "name": "python"
    }
  },
  "cells": [
    {
      "cell_type": "markdown",
      "metadata": {
        "id": "view-in-github",
        "colab_type": "text"
      },
      "source": [
        "<a href=\"https://colab.research.google.com/github/mqquiroz/ICH3424/blob/master/Taller_ModeloSWAN.ipynb\" target=\"_parent\"><img src=\"https://colab.research.google.com/assets/colab-badge.svg\" alt=\"Open In Colab\"/></a>"
      ]
    },
    {
      "cell_type": "markdown",
      "metadata": {
        "id": "goDcGyX0VkPr"
      },
      "source": [
        "#Pontificia Universidad Católica de Chile\n",
        "## Escuela de Ingeniería \n",
        "### Instalación y uso de SWAN en Google Colab. ICH3424: Ingeniería de Costas"
      ]
    },
    {
      "cell_type": "markdown",
      "metadata": {
        "id": "r16xKegdWR-_"
      },
      "source": [
        "#### Instalación\n",
        "\n",
        "Primero descargamos el código fuente desde [SWAN Source](http://swanmodel.sourceforge.net/download/download.htm) y se ejecutan una serie de comandos para compilar el código y listo para correr"
      ]
    },
    {
      "cell_type": "code",
      "metadata": {
        "colab": {
          "base_uri": "https://localhost:8080/"
        },
        "id": "ejpxSviUPtG0",
        "outputId": "b2cd0b62-8378-454f-c725-e9185e2625f5"
      },
      "source": [
        "!wget http://swanmodel.sourceforge.net/download/zip/swan4131.tar.gz\n",
        "!tar -xzf swan4131.tar.gz\n",
        "%cd swan4131\n",
        "!perl switch.pl -unix\n",
        "!make config\n",
        "!make ser\n",
        "%cd ..\n",
        "!mkdir modelo_SWAN\n",
        "%cd swan4131\n",
        "%cp -r 'swan.exe' 'swanrun' '/content/modelo_SWAN'\n",
        "%cd ..\n",
        "!rm -r swan4131\n",
        "!rm swan4131.tar.gz\n",
        "%cd modelo_SWAN\n",
        "!chmod +x swanrun swan.exe\n",
        "#!chmod +rx ./swanrun ./swan.exe\n",
        "import os\n",
        "cwd = os.getcwd()\n",
        "os.environ['PATH'] += \":\"+cwd\n",
        "%cd .."
      ],
      "execution_count": 40,
      "outputs": [
        {
          "output_type": "stream",
          "name": "stdout",
          "text": [
            "--2021-09-01 03:16:58--  http://swanmodel.sourceforge.net/download/zip/swan4131.tar.gz\n",
            "Resolving swanmodel.sourceforge.net (swanmodel.sourceforge.net)... 204.68.111.100\n",
            "Connecting to swanmodel.sourceforge.net (swanmodel.sourceforge.net)|204.68.111.100|:80... connected.\n",
            "HTTP request sent, awaiting response... 200 OK\n",
            "Length: 816641 (798K) [application/x-gzip]\n",
            "Saving to: ‘swan4131.tar.gz’\n",
            "\n",
            "swan4131.tar.gz     100%[===================>] 797.50K  2.80MB/s    in 0.3s    \n",
            "\n",
            "2021-09-01 03:16:59 (2.80 MB/s) - ‘swan4131.tar.gz’ saved [816641/816641]\n",
            "\n",
            "/content/swan4131\n",
            "make FOR=gfortran FFLAGS=\"-O -w -fno-second-underscore \" \\\n",
            "        FFLAGS90=\"-O -w -fno-second-underscore -ffree-line-length-none \" \\\n",
            "                INCS=\"\" LIBS=\"\" OBJS=\"swmod1.o swmod2.o SwanSpectPart.o m_constants.o m_fileio.o serv_xnl4v5.o mod_xnl4v5.o SwanGriddata.o SwanGridobjects.o SwanCompdata.o SdsBabanin.o  swan2coh.o swanmain.o swanpre1.o swanpre2.o swancom1.o swancom2.o swancom3.o swancom4.o swancom5.o swanout1.o swanout2.o swanser.o swanparll.o SwanReadGrid.o SwanReadADCGrid.o SwanReadTriangleGrid.o SwanReadEasymeshGrid.o SwanInitCompGrid.o SwanCheckGrid.o SwanCreateEdges.o SwanGridTopology.o SwanGridVert.o SwanGridCell.o SwanGridFace.o SwanPrintGridInfo.o SwanFindPoint.o SwanPointinMesh.o SwanBpntlist.o SwanPrepComp.o SwanVertlist.o SwanCompUnstruc.o SwanDispParm.o SwanPropvelX.o SwanSweepSel.o SwanPropvelS.o SwanTranspAc.o SwanTranspX.o SwanDiffPar.o SwanGSECorr.o SwanGradDepthorK.o SwanGradVel.o SwanInterpolatePoint.o SwanInterpolateAc.o SwanInterpolateOutput.o SwanConvAccur.o SwanConvStopc.o SwanThreadBounds.o SwanFindObstacles.o SwanCrossObstacle.o SwanComputeForce.o SwanIntgratSpc.o SwanBndStruc.o SwanReadfort18.o SwanPunCollect.o SwanSumOverNodes.o SwanMinOverNodes.o SwanMaxOverNodes.o ocpids.o ocpcre.o ocpmix.o\" swan.exe\n",
            "make[1]: Entering directory '/content/swan4131'\n",
            "gfortran swmod1.f -c -O -w -fno-second-underscore  \n",
            "gfortran swmod2.f -c -O -w -fno-second-underscore  \n",
            "gfortran SwanSpectPart.f -c -O -w -fno-second-underscore  \n",
            "gfortran m_constants.f90 -c -O -w -fno-second-underscore -ffree-line-length-none  \n",
            "gfortran m_fileio.f90 -c -O -w -fno-second-underscore -ffree-line-length-none  \n",
            "gfortran serv_xnl4v5.f90 -c -O -w -fno-second-underscore -ffree-line-length-none  \n",
            "gfortran mod_xnl4v5.f90 -c -O -w -fno-second-underscore -ffree-line-length-none  \n",
            "gfortran SwanGriddata.f90 -c -O -w -fno-second-underscore -ffree-line-length-none  \n",
            "gfortran SwanGridobjects.f90 -c -O -w -fno-second-underscore -ffree-line-length-none  \n",
            "gfortran SwanCompdata.f90 -c -O -w -fno-second-underscore -ffree-line-length-none  \n",
            "gfortran SdsBabanin.f90 -c -O -w -fno-second-underscore -ffree-line-length-none  \n",
            "gfortran swan2coh.f90 -c -O -w -fno-second-underscore -ffree-line-length-none  \n",
            "gfortran swanmain.f -c -O -w -fno-second-underscore  \n",
            "gfortran swanpre1.f -c -O -w -fno-second-underscore  \n",
            "gfortran swanpre2.f -c -O -w -fno-second-underscore  \n",
            "gfortran swancom1.f -c -O -w -fno-second-underscore  \n",
            "gfortran swancom2.f -c -O -w -fno-second-underscore  \n",
            "gfortran swancom3.f -c -O -w -fno-second-underscore  \n",
            "gfortran swancom4.f -c -O -w -fno-second-underscore  \n",
            "gfortran swancom5.f -c -O -w -fno-second-underscore  \n",
            "gfortran swanout1.f -c -O -w -fno-second-underscore  \n",
            "gfortran swanout2.f -c -O -w -fno-second-underscore  \n",
            "gfortran swanser.f -c -O -w -fno-second-underscore  \n",
            "gfortran swanparll.f -c -O -w -fno-second-underscore  \n",
            "gfortran SwanReadGrid.f90 -c -O -w -fno-second-underscore -ffree-line-length-none  \n",
            "gfortran SwanReadADCGrid.f90 -c -O -w -fno-second-underscore -ffree-line-length-none  \n",
            "gfortran SwanReadTriangleGrid.f90 -c -O -w -fno-second-underscore -ffree-line-length-none  \n",
            "gfortran SwanReadEasymeshGrid.f90 -c -O -w -fno-second-underscore -ffree-line-length-none  \n",
            "gfortran SwanInitCompGrid.f90 -c -O -w -fno-second-underscore -ffree-line-length-none  \n",
            "gfortran SwanCheckGrid.f90 -c -O -w -fno-second-underscore -ffree-line-length-none  \n",
            "gfortran SwanCreateEdges.f90 -c -O -w -fno-second-underscore -ffree-line-length-none  \n",
            "gfortran SwanGridTopology.f90 -c -O -w -fno-second-underscore -ffree-line-length-none  \n",
            "gfortran SwanGridVert.f90 -c -O -w -fno-second-underscore -ffree-line-length-none  \n",
            "gfortran SwanGridCell.f90 -c -O -w -fno-second-underscore -ffree-line-length-none  \n",
            "gfortran SwanGridFace.f90 -c -O -w -fno-second-underscore -ffree-line-length-none  \n",
            "gfortran SwanPrintGridInfo.f90 -c -O -w -fno-second-underscore -ffree-line-length-none  \n",
            "gfortran SwanFindPoint.f90 -c -O -w -fno-second-underscore -ffree-line-length-none  \n",
            "gfortran SwanPointinMesh.f90 -c -O -w -fno-second-underscore -ffree-line-length-none  \n",
            "gfortran SwanBpntlist.f90 -c -O -w -fno-second-underscore -ffree-line-length-none  \n",
            "gfortran SwanPrepComp.f90 -c -O -w -fno-second-underscore -ffree-line-length-none  \n",
            "gfortran SwanVertlist.f90 -c -O -w -fno-second-underscore -ffree-line-length-none  \n",
            "gfortran SwanCompUnstruc.f90 -c -O -w -fno-second-underscore -ffree-line-length-none  \n",
            "gfortran SwanDispParm.f90 -c -O -w -fno-second-underscore -ffree-line-length-none  \n",
            "gfortran SwanPropvelX.f90 -c -O -w -fno-second-underscore -ffree-line-length-none  \n",
            "gfortran SwanSweepSel.f90 -c -O -w -fno-second-underscore -ffree-line-length-none  \n",
            "gfortran SwanPropvelS.f90 -c -O -w -fno-second-underscore -ffree-line-length-none  \n",
            "gfortran SwanTranspAc.f90 -c -O -w -fno-second-underscore -ffree-line-length-none  \n",
            "gfortran SwanTranspX.f90 -c -O -w -fno-second-underscore -ffree-line-length-none  \n",
            "gfortran SwanDiffPar.f90 -c -O -w -fno-second-underscore -ffree-line-length-none  \n",
            "gfortran SwanGSECorr.f90 -c -O -w -fno-second-underscore -ffree-line-length-none  \n",
            "gfortran SwanGradDepthorK.f90 -c -O -w -fno-second-underscore -ffree-line-length-none  \n",
            "gfortran SwanGradVel.f90 -c -O -w -fno-second-underscore -ffree-line-length-none  \n",
            "gfortran SwanInterpolatePoint.f90 -c -O -w -fno-second-underscore -ffree-line-length-none  \n",
            "gfortran SwanInterpolateAc.f90 -c -O -w -fno-second-underscore -ffree-line-length-none  \n",
            "gfortran SwanInterpolateOutput.f90 -c -O -w -fno-second-underscore -ffree-line-length-none  \n",
            "gfortran SwanConvAccur.f90 -c -O -w -fno-second-underscore -ffree-line-length-none  \n",
            "gfortran SwanConvStopc.f90 -c -O -w -fno-second-underscore -ffree-line-length-none  \n",
            "gfortran SwanThreadBounds.f90 -c -O -w -fno-second-underscore -ffree-line-length-none  \n",
            "gfortran SwanFindObstacles.f90 -c -O -w -fno-second-underscore -ffree-line-length-none  \n",
            "gfortran SwanCrossObstacle.f90 -c -O -w -fno-second-underscore -ffree-line-length-none  \n",
            "gfortran SwanComputeForce.f90 -c -O -w -fno-second-underscore -ffree-line-length-none  \n",
            "gfortran SwanIntgratSpc.f90 -c -O -w -fno-second-underscore -ffree-line-length-none  \n",
            "gfortran SwanBndStruc.f90 -c -O -w -fno-second-underscore -ffree-line-length-none  \n",
            "gfortran SwanReadfort18.f90 -c -O -w -fno-second-underscore -ffree-line-length-none  \n",
            "gfortran SwanPunCollect.f90 -c -O -w -fno-second-underscore -ffree-line-length-none  \n",
            "gfortran SwanSumOverNodes.f90 -c -O -w -fno-second-underscore -ffree-line-length-none  \n",
            "gfortran SwanMinOverNodes.f90 -c -O -w -fno-second-underscore -ffree-line-length-none  \n",
            "gfortran SwanMaxOverNodes.f90 -c -O -w -fno-second-underscore -ffree-line-length-none  \n",
            "gfortran ocpids.f -c -O -w -fno-second-underscore  \n",
            "gfortran ocpcre.f -c -O -w -fno-second-underscore  \n",
            "gfortran ocpmix.f -c -O -w -fno-second-underscore  \n",
            "gfortran swmod1.o swmod2.o SwanSpectPart.o m_constants.o m_fileio.o serv_xnl4v5.o mod_xnl4v5.o SwanGriddata.o SwanGridobjects.o SwanCompdata.o SdsBabanin.o  swan2coh.o swanmain.o swanpre1.o swanpre2.o swancom1.o swancom2.o swancom3.o swancom4.o swancom5.o swanout1.o swanout2.o swanser.o swanparll.o SwanReadGrid.o SwanReadADCGrid.o SwanReadTriangleGrid.o SwanReadEasymeshGrid.o SwanInitCompGrid.o SwanCheckGrid.o SwanCreateEdges.o SwanGridTopology.o SwanGridVert.o SwanGridCell.o SwanGridFace.o SwanPrintGridInfo.o SwanFindPoint.o SwanPointinMesh.o SwanBpntlist.o SwanPrepComp.o SwanVertlist.o SwanCompUnstruc.o SwanDispParm.o SwanPropvelX.o SwanSweepSel.o SwanPropvelS.o SwanTranspAc.o SwanTranspX.o SwanDiffPar.o SwanGSECorr.o SwanGradDepthorK.o SwanGradVel.o SwanInterpolatePoint.o SwanInterpolateAc.o SwanInterpolateOutput.o SwanConvAccur.o SwanConvStopc.o SwanThreadBounds.o SwanFindObstacles.o SwanCrossObstacle.o SwanComputeForce.o SwanIntgratSpc.o SwanBndStruc.o SwanReadfort18.o SwanPunCollect.o SwanSumOverNodes.o SwanMinOverNodes.o SwanMaxOverNodes.o ocpids.o ocpcre.o ocpmix.o -O -w -fno-second-underscore  -o swan.exe  \n",
            "make[1]: Leaving directory '/content/swan4131'\n",
            "/content\n",
            "/content/swan4131\n",
            "/content\n",
            "/content/modelo_SWAN\n",
            "/content\n"
          ]
        }
      ]
    },
    {
      "cell_type": "markdown",
      "metadata": {
        "id": "2YhuY1U2Wu8n"
      },
      "source": [
        "Luego es necesario subir algun ejemplo en google colab. O tener vinculado google drive y trabajar con los archivos de Input desde allí. En este caso se subió directamente los archivos a Colab: "
      ]
    },
    {
      "cell_type": "code",
      "metadata": {
        "colab": {
          "base_uri": "https://localhost:8080/"
        },
        "id": "NLp3AC-nSxAv",
        "outputId": "e357e8f7-4ed2-4c71-86d6-a6dc78cf0e20"
      },
      "source": [
        "!swanrun -input ej1-input -omp 2"
      ],
      "execution_count": 34,
      "outputs": [
        {
          "output_type": "stream",
          "name": "stdout",
          "text": [
            "swan.exe is /content/modelo_SWAN/swan.exe\n",
            "\n",
            " SWAN is preparing computation\n",
            "\n",
            " iteration    1; sweep 1\n",
            "+iteration    1; sweep 2\n",
            "+iteration    1; sweep 3\n",
            "+iteration    1; sweep 4\n",
            " accuracy OK in   1.46 % of wet grid points ( 95.00 % required)\n",
            "\n",
            " iteration    2; sweep 1\n",
            "+iteration    2; sweep 2\n",
            "+iteration    2; sweep 3\n",
            "+iteration    2; sweep 4\n",
            " accuracy OK in  76.03 % of wet grid points ( 95.00 % required)\n",
            "\n",
            " iteration    3; sweep 1\n",
            "+iteration    3; sweep 2\n",
            "+iteration    3; sweep 3\n",
            "+iteration    3; sweep 4\n",
            " accuracy OK in  77.29 % of wet grid points ( 95.00 % required)\n",
            "\n",
            " iteration    4; sweep 1\n",
            "+iteration    4; sweep 2\n",
            "+iteration    4; sweep 3\n",
            "+iteration    4; sweep 4\n",
            " accuracy OK in  84.19 % of wet grid points ( 95.00 % required)\n",
            "\n",
            " iteration    5; sweep 1\n",
            "+iteration    5; sweep 2\n",
            "+iteration    5; sweep 3\n",
            "+iteration    5; sweep 4\n",
            " accuracy OK in  85.62 % of wet grid points ( 95.00 % required)\n",
            "\n",
            " iteration    6; sweep 1\n",
            "+iteration    6; sweep 2\n",
            "+iteration    6; sweep 3\n",
            "+iteration    6; sweep 4\n",
            " accuracy OK in  90.01 % of wet grid points ( 95.00 % required)\n",
            "\n",
            " iteration    7; sweep 1\n",
            "+iteration    7; sweep 2\n",
            "+iteration    7; sweep 3\n",
            "+iteration    7; sweep 4\n",
            " accuracy OK in  92.59 % of wet grid points ( 95.00 % required)\n",
            "\n",
            " iteration    8; sweep 1\n",
            "+iteration    8; sweep 2\n",
            "+iteration    8; sweep 3\n",
            "+iteration    8; sweep 4\n",
            " accuracy OK in  94.64 % of wet grid points ( 95.00 % required)\n",
            "\n",
            " iteration    9; sweep 1\n",
            "+iteration    9; sweep 2\n",
            "+iteration    9; sweep 3\n",
            "+iteration    9; sweep 4\n",
            " accuracy OK in  96.39 % of wet grid points ( 95.00 % required)\n",
            "\n",
            "+SWAN is processing output request    1\n",
            "+SWAN is processing output request    2\n",
            "+SWAN is processing output request    3\n",
            "+SWAN is processing output request    4\n",
            "+SWAN is processing output request    5\n",
            "+SWAN is processing output request    6\n",
            "+SWAN is processing output request    7\n",
            "  Normal end of run 1   \n"
          ]
        }
      ]
    }
  ]
}